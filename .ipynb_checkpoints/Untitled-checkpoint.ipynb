{
 "cells": [
  {
   "cell_type": "code",
   "execution_count": 16,
   "metadata": {
    "collapsed": true
   },
   "outputs": [],
   "source": [
    "import numpy as np\n",
    "from numpy.linalg import inv\n",
    "import matplotlib\n",
    "import matplotlib.pyplot as plt\n",
    "plt.style.use('ggplot')"
   ]
  },
  {
   "cell_type": "code",
   "execution_count": 6,
   "metadata": {
    "collapsed": true
   },
   "outputs": [],
   "source": [
    "def dataset_ (N=200, idx_outlier=0, ydistance=5):\n",
    "    rng = np.random.RandomState(4)\n",
    "    data  = np.dot(rng.rand(2, 2), rng.randn(2, N)).T\n",
    "    data[idx_outlier:idx_outlier+1,1] = ydistance\n",
    "    return data"
   ]
  },
  {
   "cell_type": "code",
   "execution_count": 7,
   "metadata": {},
   "outputs": [],
   "source": [
    "N=50\n",
    "inx=10 #an influential point\n",
    "i = dataset_(N, inx)\n",
    "p = len(i.T)-1\n",
    "Z = i[:,0].reshape(len(i[:,0]),1)\n",
    "y = i[:,1].reshape(len(i[:,1]),1)\n",
    "f_H = lambda i: np.dot(i, inv(np.dot(i.T, i))).dot(i.T)\n",
    "b = lambda Z,y: inv(np.dot(Z.T,Z)).dot(Z.T).dot(y)\n",
    "ypred = lambda Z,b: Z.dot(b)\n",
    "H = f_H(i)\n",
    "original_ypred = ypred(Z, b(Z,y))"
   ]
  },
  {
   "cell_type": "code",
   "execution_count": 9,
   "metadata": {},
   "outputs": [],
   "source": [
    "outliers,Dfs = [],[]\n",
    "t = 2*np.sqrt((p+1)/(N-p-1)) #threshold\n",
    "\n",
    "errs = y - original_ypred\n",
    "var_= sum(errs**2)/N       #for the internally Studentized residuals\n",
    "\n",
    "for n in range(N):\n",
    "    rstudent = errs[n]/(var_ * np.sqrt(1-H[n,n])) #the internally Studentized residuals\n",
    "        \n",
    "    Df = rstudent*(np.sqrt(H[n,n]/ 1-H[n,n]**2))\n",
    "    Dfs.append(abs(Df))\n",
    "    if abs(Df) > t: \n",
    "        outliers.append(n)"
   ]
  },
  {
   "cell_type": "code",
   "execution_count": 10,
   "metadata": {},
   "outputs": [
    {
     "data": {
      "text/plain": [
       "0.408248290463863"
      ]
     },
     "execution_count": 10,
     "metadata": {},
     "output_type": "execute_result"
    }
   ],
   "source": [
    "t"
   ]
  },
  {
   "cell_type": "code",
   "execution_count": 11,
   "metadata": {},
   "outputs": [
    {
     "data": {
      "text/plain": [
       "[10]"
      ]
     },
     "execution_count": 11,
     "metadata": {},
     "output_type": "execute_result"
    }
   ],
   "source": [
    "outliers"
   ]
  },
  {
   "cell_type": "code",
   "execution_count": 13,
   "metadata": {},
   "outputs": [
    {
     "data": {
      "text/plain": [
       "[array([10.38312882]),\n",
       " array([0.13462557]),\n",
       " array([0.12596528]),\n",
       " array([0.11952226]),\n",
       " array([0.10717736])]"
      ]
     },
     "execution_count": 13,
     "metadata": {},
     "output_type": "execute_result"
    }
   ],
   "source": [
    "Dfs.sort(reverse=True);Dfs[:5]"
   ]
  },
  {
   "cell_type": "code",
   "execution_count": 17,
   "metadata": {},
   "outputs": [
    {
     "data": {
      "text/plain": [
       "<matplotlib.collections.PathCollection at 0x11e07cf28>"
      ]
     },
     "execution_count": 17,
     "metadata": {},
     "output_type": "execute_result"
    },
    {
     "data": {
      "image/png": "[encoded data removed]",
      "text/plain": [
       "<Figure size 576x432 with 1 Axes>"
      ]
     },
     "metadata": {},
     "output_type": "display_data"
    }
   ],
   "source": [
    "c=['#415952', '#f35134', '#243AB5']\n",
    "carray = np.array([c[0]]*N)\n",
    "carray[outliers]='red'\n",
    "fig, ax = plt.subplots(figsize=(8,6))\n",
    "ax.scatter(i[:,0], i[:,1], label=r'$df=%i$' % 2, c=carray, alpha=0.3)"
   ]
  },
  {
   "cell_type": "code",
   "execution_count": null,
   "metadata": {
    "collapsed": true
   },
   "outputs": [],
   "source": []
  }
 ],
 "metadata": {
  "hide_input": false,
  "kernelspec": {
   "display_name": "Python 3",
   "language": "python",
   "name": "python3"
  },
  "language_info": {
   "codemirror_mode": {
    "name": "ipython",
    "version": 3
   },
   "file_extension": ".py",
   "mimetype": "text/x-python",
   "name": "python",
   "nbconvert_exporter": "python",
   "pygments_lexer": "ipython3",
   "version": "3.5.6"
  },
  "toc": {
   "base_numbering": 1,
   "nav_menu": {},
   "number_sections": true,
   "sideBar": true,
   "skip_h1_title": false,
   "title_cell": "Table of Contents",
   "title_sidebar": "Contents",
   "toc_cell": false,
   "toc_position": {},
   "toc_section_display": true,
   "toc_window_display": false
  },
  "varInspector": {
   "cols": {
    "lenName": 16,
    "lenType": 16,
    "lenVar": 40
   },
   "kernels_config": {
    "python": {
     "delete_cmd_postfix": "",
     "delete_cmd_prefix": "del ",
     "library": "var_list.py",
     "varRefreshCmd": "print(var_dic_list())"
    },
    "r": {
     "delete_cmd_postfix": ") ",
     "delete_cmd_prefix": "rm(",
     "library": "var_list.r",
     "varRefreshCmd": "cat(var_dic_list()) "
    }
   },
   "types_to_exclude": [
    "module",
    "function",
    "builtin_function_or_method",
    "instance",
    "_Feature"
   ],
   "window_display": false
  }
 },
 "nbformat": 4,
 "nbformat_minor": 2
}
